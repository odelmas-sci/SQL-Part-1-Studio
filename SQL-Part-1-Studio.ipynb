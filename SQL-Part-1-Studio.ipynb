{
    "metadata": {
        "kernelspec": {
            "name": "SQL",
            "display_name": "SQL",
            "language": "sql"
        },
        "language_info": {
            "name": "sql",
            "version": ""
        },
        "extensions": {
            "azuredatastudio": {
                "version": 1,
                "views": []
            }
        }
    },
    "nbformat_minor": 2,
    "nbformat": 4,
    "cells": [
        {
            "cell_type": "markdown",
            "source": [
                "# SQL Part 1 Studio\n",
                "\n",
                "### Let's practice your SQL quering skills!  For each question, work along in the notebook adding your query and answering the questions. \n",
                "\n",
                "### **DataSet**\n",
                "\n",
                "### <span style=\"font-size: 14px; font-family: -apple-system, BlinkMacSystemFont, sans-serif;\">We will be using the Goodbooks-10k dataset from the exercises in the prep work.&nbsp; Feel free to reference your notebook.</span>\n",
                "\n",
                "- The dataset can be found here: [goodbooks-10k](https://www.kaggle.com/zygmunt/goodbooks-10k)\n",
                "- You can access the **BooksDB** in the Launchcode server.\n",
                "\n",
                "### **Business Issue**\n",
                "\n",
                "You work for a small independant book store and you want to increase sales by running various promotions.  Start by becoming more familar with the BooksDB."
            ],
            "metadata": {
                "azdata_cell_guid": "b9034d8a-b631-48bf-a895-1012a6ffa784"
            }
        },
        {
            "cell_type": "markdown",
            "source": [
                "## Part 1. BooksDB Questions\n",
                "\n",
                "<span style=\"color: rgba(0, 0, 0, 0.87); font-family: -apple-system, system-ui, &quot;Segoe UI&quot;, Helvetica, Arial, sans-serif, &quot;Apple Color Emoji&quot;, &quot;Segoe UI Emoji&quot;, &quot;Segoe UI Symbol&quot;; background-color: rgb(255, 255, 255);\">Question 1:&nbsp; Write a query of the books table, returning the TOP 100 results and&nbsp; includes, book_id, authors, title, average_rating.&nbsp; Use an alias for at least one column and in descending order of rating.&nbsp; What is the number one book?</span>"
            ],
            "metadata": {
                "azdata_cell_guid": "6e55eb1c-4a14-4076-90d2-95ed17a6309f",
                "tags": [
                    "hide_input"
                ]
            },
            "attachments": {}
        },
        {
            "cell_type": "code",
            "source": [
                "-- return top 100 results\n",
                "SELECT TOP 100 book_id, authors, title, average_rating FROM BooksDB.dbo.books\n",
                "ORDER BY title DESC; "
            ],
            "metadata": {
                "azdata_cell_guid": "470b0ca4-9a32-4b46-a42e-bbb645101769",
                "tags": [],
                "language": "sql"
            },
            "outputs": [
                {
                    "output_type": "display_data",
                    "data": {
                        "text/html": "(100 rows affected)"
                    },
                    "metadata": {}
                },
                {
                    "output_type": "display_data",
                    "data": {
                        "text/html": "Total execution time: 00:00:00.083"
                    },
                    "metadata": {}
                },
                {
                    "output_type": "execute_result",
                    "metadata": {},
                    "execution_count": 3,
                    "data": {
                        "application/vnd.dataresource+json": {
                            "schema": {
                                "fields": [
                                    {
                                        "name": "book_id"
                                    },
                                    {
                                        "name": "authors"
                                    },
                                    {
                                        "name": "title"
                                    },
                                    {
                                        "name": "average_rating"
                                    }
                                ]
                            },
                            "data": [
                                {
                                    "0": "1429082",
                                    "1": "Naoko Takeuchi, 武内 直子",
                                    "2": "美少女戦士セーラームーン新装版 1 [Bishōjo Senshi Sailor Moon Shinsōban 1]",
                                    "3": "4.28"
                                },
                                {
                                    "0": "8110748",
                                    "1": "Meca Tanaka, 田中メカ",
                                    "2": "キスよりも早く1 [Kisu Yorimo Hayaku 1] (Faster than a Kiss #1)",
                                    "3": "4.23"
                                },
                                {
                                    "0": "3831279",
                                    "1": "أحمد مراد",
                                    "2": "ڤيرتيجو",
                                    "3": "3.72"
                                },
                                {
                                    "0": "3503947",
                                    "1": "أحمد خالد توفيق",
                                    "2": "يوتوبيا",
                                    "3": "3.9"
                                },
                                {
                                    "0": "3240691",
                                    "1": "بهاء طاهر",
                                    "2": "واحة الغروب",
                                    "3": "3.82"
                                },
                                {
                                    "0": "20317106",
                                    "1": "محمد صادق",
                                    "2": "هيبتا",
                                    "3": "3.82"
                                },
                                {
                                    "0": "383196",
                                    "1": "سهراب سپهری",
                                    "2": "هشت کتاب",
                                    "3": "4.08"
                                },
                                {
                                    "0": "17524166",
                                    "1": "Alaa Al Aswany, علاء الأسواني",
                                    "2": "نادي السيارات",
                                    "3": "3.41"
                                },
                                {
                                    "0": "10088913",
                                    "1": "حسن الجندي",
                                    "2": "مخطوطة بن إسحاق: مدينة الموتى",
                                    "3": "3.76"
                                },
                                {
                                    "0": "11995136",
                                    "1": "يوسف زيدان, Youssef Ziedan",
                                    "2": "محال",
                                    "3": "3.31"
                                },
                                {
                                    "0": "74862",
                                    "1": "Samad Behrangi",
                                    "2": "ماهی سیاه کوچولو",
                                    "3": "4.11"
                                },
                                {
                                    "0": "7824768",
                                    "1": "خالد الباتلي",
                                    "2": "ليتها تقرأ",
                                    "3": "3.04"
                                },
                                {
                                    "0": "2750180",
                                    "1": "عائض القرني",
                                    "2": "لا تحزن",
                                    "3": "4.15"
                                },
                                {
                                    "0": "12415695",
                                    "1": "عبدالله المغلوث",
                                    "2": "كخه يا بابا",
                                    "3": "3.71"
                                },
                                {
                                    "0": "5607622",
                                    "1": "محمد المنسي قنديل, Mohamed Mansi Qandil",
                                    "2": "قمر على سمرقند",
                                    "3": "3.9"
                                },
                                {
                                    "0": "20316309",
                                    "1": "خولة حمدي",
                                    "2": "في قلبي أنثى عبرية",
                                    "3": "4.04"
                                },
                                {
                                    "0": "10400407",
                                    "1": "أثير عبدالله النشمي",
                                    "2": "في ديسمبر تنتهي كل الأحلام",
                                    "3": "3.33"
                                },
                                {
                                    "0": "2501455",
                                    "1": "أحلام مستغانمي, Ahlam Mosteghanemi",
                                    "2": "فوضى الحواس",
                                    "3": "3.83"
                                },
                                {
                                    "0": "18711993",
                                    "1": "أثير عبدالله النشمي",
                                    "2": "فلتغفري",
                                    "3": "3.5"
                                },
                                {
                                    "0": "326272",
                                    "1": "Heinrich Böll, محمد اسماعیل‌زاده",
                                    "2": "عقاید یک دلقک",
                                    "3": "4.05"
                                },
                                {
                                    "0": "3554772",
                                    "1": "يوسف زيدان",
                                    "2": "عزازيل",
                                    "3": "4.07"
                                },
                                {
                                    "0": "2501453",
                                    "1": "أحلام مستغانمي, Ahlam Mosteghanemi",
                                    "2": "عابر سرير",
                                    "3": "3.64"
                                },
                                {
                                    "0": "3331756",
                                    "1": "غسان كنفاني",
                                    "2": "عائد إلى حيفا",
                                    "3": "4.32"
                                },
                                {
                                    "0": "5557442",
                                    "1": "يوسف زيدان",
                                    "2": "ظل الأفعى",
                                    "3": "3"
                                },
                                {
                                    "0": "13151637",
                                    "1": "محمد صادق",
                                    "2": "طه الغريب",
                                    "3": "3.67"
                                },
                                {
                                    "0": "16170522",
                                    "1": "تامر إبراهيم",
                                    "2": "صانع الظلام",
                                    "3": "3.81"
                                },
                                {
                                    "0": "1220507",
                                    "1": "Alaa Al Aswany, علاء الأسواني",
                                    "2": "شيكاجو",
                                    "3": "3.41"
                                },
                                {
                                    "0": "3692151",
                                    "1": "عمر طاهر",
                                    "2": "شكلها باظت",
                                    "3": "3.52"
                                },
                                {
                                    "0": "11942408",
                                    "1": "عمرو سلامة",
                                    "2": "شاب كشك في رحلة البحث عن الجادون",
                                    "3": "3.66"
                                },
                                {
                                    "0": "364826",
                                    "1": "Mika Waltari, ذبیح‌الله منصوری",
                                    "2": "سینوهه",
                                    "3": "4.08"
                                },
                                {
                                    "0": "300905",
                                    "1": "عباس معروفی",
                                    "2": "سمفونی مردگان",
                                    "3": "4.08"
                                },
                                {
                                    "0": "13637412",
                                    "1": "سعود السنعوسي, Saud Alsanousi",
                                    "2": "ساق البامبو",
                                    "3": "4.25"
                                },
                                {
                                    "0": "6614886",
                                    "1": "أحمد خالد توفيق",
                                    "2": "زغازيغ",
                                    "3": "3.55"
                                },
                                {
                                    "0": "9722217",
                                    "1": "نور عبدالمجيد",
                                    "2": "رغم الفراق",
                                    "3": "3.97"
                                },
                                {
                                    "0": "3338544",
                                    "1": "مصطفى محمود",
                                    "2": "رحلتي من الشك إلى الإيمان",
                                    "3": "4.03"
                                },
                                {
                                    "0": "4653511",
                                    "1": "غسان كنفاني",
                                    "2": "رجال في الشمس",
                                    "3": "4.16"
                                },
                                {
                                    "0": "4488657",
                                    "1": "صلاح جاهين, يحيى حقي",
                                    "2": "رباعيات صلاح جاهين",
                                    "3": "4.43"
                                },
                                {
                                    "0": "716696",
                                    "1": "Omar Khayyám, محمدعلی فروغی, قاسم غنی",
                                    "2": "رباعيات خيام",
                                    "3": "4.18"
                                },
                                {
                                    "0": "3243517",
                                    "1": "Mourid Barghouti, مريد البرغوثي",
                                    "2": "رأيت رام الله",
                                    "3": "4.15"
                                },
                                {
                                    "0": "2501458",
                                    "1": "أحلام مستغانمي, Ahlam Mosteghanemi",
                                    "2": "ذاكرة الجسد",
                                    "3": "3.87"
                                },
                                {
                                    "0": "192510",
                                    "1": "José Mauro de Vasconcelos, قاسم صنعوی",
                                    "2": "درخت زیبای من",
                                    "3": "4.36"
                                },
                                {
                                    "0": "3491072",
                                    "1": "أنيس منصور",
                                    "2": "حول العالم في 200 يوم",
                                    "3": "4.08"
                                },
                                {
                                    "0": "18039755",
                                    "1": "Ibraheem Abbas, إبراهيم عباس, Yasser Bahjatt",
                                    "2": "حوجن [Ḥawjan]",
                                    "3": "3.75"
                                },
                                {
                                    "0": "5664022",
                                    "1": "مصطفى محمود",
                                    "2": "حوار مع صديقي الملحد",
                                    "3": "3.95"
                                },
                                {
                                    "0": "18363068",
                                    "1": "محمد السالم",
                                    "2": "حبيبتي بكماء",
                                    "3": "3.3"
                                },
                                {
                                    "0": "3438000",
                                    "1": "Radwa Ashour, رضوى عاشور",
                                    "2": "ثلاثية غرناطة",
                                    "3": "4.29"
                                },
                                {
                                    "0": "7704143",
                                    "1": "أحمد مراد",
                                    "2": "تراب الماس",
                                    "3": "4.09"
                                },
                                {
                                    "0": "2508854",
                                    "1": "خالد الخميسي, Khaled Al Khamissi",
                                    "2": "تاكسي: حواديت المشاوير",
                                    "3": "3.68"
                                },
                                {
                                    "0": "10706934",
                                    "1": "ياسر حارب",
                                    "2": "بيكاسو وستاربكس",
                                    "3": "3.55"
                                },
                                {
                                    "0": "13151283",
                                    "1": "محمد صادق",
                                    "2": "بضع ساعات في يوم ما",
                                    "3": "3.14"
                                },
                                {
                                    "0": "13562054",
                                    "1": "عزالدين شكري فشير",
                                    "2": "باب الخروج: رسالة علي المفعمة ببهجة غير متوقعة",
                                    "3": "3.88"
                                },
                                {
                                    "0": "9666241",
                                    "1": "يوسف زيدان, Youssef Ziedan",
                                    "2": "النبطي",
                                    "3": "3.43"
                                },
                                {
                                    "0": "18323154",
                                    "1": "حسن كمال",
                                    "2": "المرحوم",
                                    "3": "3.51"
                                },
                                {
                                    "0": "16170625",
                                    "1": "مصطفى إبراهيم",
                                    "2": "المانيفستو",
                                    "3": "4.21"
                                },
                                {
                                    "0": "16031620",
                                    "1": "أحمد مراد",
                                    "2": "الفيل الأزرق",
                                    "3": "3.8"
                                },
                                {
                                    "0": "8239301",
                                    "1": "Radwa Ashour, رضوى عاشور",
                                    "2": "الطنطورية",
                                    "3": "4.32"
                                },
                                {
                                    "0": "16076787",
                                    "1": "أحمد خالد توفيق",
                                    "2": "السنجة",
                                    "3": "3.16"
                                },
                                {
                                    "0": "545425",
                                    "1": "Safiy al-Rahman al-Mubarakfuri",
                                    "2": "الرحيق المختوم",
                                    "3": "4.57"
                                },
                                {
                                    "0": "5295735",
                                    "1": "Naguib Mahfouz, نجيب محفوظ",
                                    "2": "الحرافيش",
                                    "3": "4.34"
                                },
                                {
                                    "0": "7701043",
                                    "1": "حسن الجندي",
                                    "2": "الجزار",
                                    "3": "4.11"
                                },
                                {
                                    "0": "16081961",
                                    "1": "أحلام مستغانمي, Ahlam Mosteghanemi",
                                    "2": "الأسود يليق بك",
                                    "3": "3.72"
                                },
                                {
                                    "0": "2678349",
                                    "1": "محمد عبد الرحمن العريفي",
                                    "2": "استمتع بحياتك",
                                    "3": "4.21"
                                },
                                {
                                    "0": "2364284",
                                    "1": "Naguib Mahfouz, نجيب محفوظ",
                                    "2": "أولاد حارتنا",
                                    "3": "4.1"
                                },
                                {
                                    "0": "6604887",
                                    "1": "منى المرشود",
                                    "2": "أنت لي",
                                    "3": "4.03"
                                },
                                {
                                    "0": "21394850",
                                    "1": "سلطان موسى الموسى",
                                    "2": "أقوم قيلا",
                                    "3": "3.99"
                                },
                                {
                                    "0": "7119070",
                                    "1": "أثير عبدالله النشمي",
                                    "2": "أحببتك أكثر مما ينبغي",
                                    "3": "3.67"
                                },
                                {
                                    "0": "97390",
                                    "1": "Aleksandr Griboyedov, Александр Сергеевич Грибоедов",
                                    "2": "Горе от ума",
                                    "3": "4.13"
                                },
                                {
                                    "0": "82817",
                                    "1": "Danielle Steel",
                                    "2": "Zoya",
                                    "3": "3.95"
                                },
                                {
                                    "0": "24796",
                                    "1": "Isabel Allende, Margaret Sayers Peden",
                                    "2": "Zorro",
                                    "3": "3.75"
                                },
                                {
                                    "0": "53639",
                                    "1": "Nikos Kazantzakis, Νίκος Καζαντζάκης",
                                    "2": "Zorba the Greek",
                                    "3": "4.1"
                                },
                                {
                                    "0": "13353667",
                                    "1": "James Patterson, Michael Ledwidge",
                                    "2": "Zoo",
                                    "3": "3.43"
                                },
                                {
                                    "0": "10365343",
                                    "1": "Colson Whitehead",
                                    "2": "Zone One",
                                    "3": "3.25"
                                },
                                {
                                    "0": "2102600",
                                    "1": "John Scalzi",
                                    "2": "Zoe's Tale (Old Man's War, #4)",
                                    "3": "3.73"
                                },
                                {
                                    "0": "105760",
                                    "1": "Robert Graysmith",
                                    "2": "Zodiac",
                                    "3": "3.89"
                                },
                                {
                                    "0": "825",
                                    "1": "Neal Stephenson",
                                    "2": "Zodiac",
                                    "3": "3.7"
                                },
                                {
                                    "0": "8879121",
                                    "1": "Ben Hatke",
                                    "2": "Zita the Spacegirl (Zita the Spacegirl, #1)",
                                    "3": "4.04"
                                },
                                {
                                    "0": "18050143",
                                    "1": "Peter Thiel, Blake  Masters",
                                    "2": "Zero to One: Notes on Startups, or How to Build the Future",
                                    "3": "4.17"
                                },
                                {
                                    "0": "7745031",
                                    "1": "William Gibson",
                                    "2": "Zero History (Blue Ant, #3)",
                                    "3": "3.93"
                                },
                                {
                                    "0": "11007587",
                                    "1": "David Baldacci",
                                    "2": "Zero Day (John Puller, #1)",
                                    "3": "3.99"
                                },
                                {
                                    "0": "228765",
                                    "1": "Frederick Franck",
                                    "2": "Zen of Seeing: Seeing/Drawing as Meditation",
                                    "3": "3.92"
                                },
                                {
                                    "0": "402843",
                                    "1": "Shunryu Suzuki",
                                    "2": "Zen Mind, Beginner's Mind: Informal Talks on Zen Meditation and Practice",
                                    "3": "4.23"
                                },
                                {
                                    "0": "629",
                                    "1": "Robert M. Pirsig",
                                    "2": "Zen and the Art of Motorcycle Maintenance: An Inquiry Into Values",
                                    "3": "3.76"
                                },
                                {
                                    "0": "6512154",
                                    "1": "Dave Eggers",
                                    "2": "Zeitoun",
                                    "3": "4.08"
                                },
                                {
                                    "0": "17568801",
                                    "1": "Reza Aslan",
                                    "2": "Zealot: The Life and Times of Jesus of Nazareth",
                                    "3": "3.82"
                                },
                                {
                                    "0": "395220",
                                    "1": "Audre Lorde",
                                    "2": "Zami: A New Spelling of My Name",
                                    "3": "4.2"
                                },
                                {
                                    "0": "15994634",
                                    "1": "Therese Anne Fowler",
                                    "2": "Z: A Novel of Zelda Fitzgerald",
                                    "3": "3.82"
                                },
                                {
                                    "0": "69477",
                                    "1": "Robert C. O'Brien",
                                    "2": "Z for Zachariah",
                                    "3": "3.64"
                                },
                                {
                                    "0": "432020",
                                    "1": "Yoshihiro Togashi",
                                    "2": "Yu Yu Hakusho, Volume 1: Goodbye, Material World! (Yu Yu Hakusho, #1)",
                                    "3": "4.29"
                                },
                                {
                                    "0": "13134",
                                    "1": "James Patterson, Howard Roughan",
                                    "2": "You've Been Warned",
                                    "3": "3.52"
                                },
                                {
                                    "0": "22193",
                                    "1": "Cecily von Ziegesar",
                                    "2": "You're the One That I Want (Gossip Girl, #6)",
                                    "3": "3.71"
                                },
                                {
                                    "0": "23705512",
                                    "1": "Felicia Day, Joss Whedon",
                                    "2": "You're Never Weird on the Internet (Almost)",
                                    "3": "4.14"
                                },
                                {
                                    "0": "1662160",
                                    "1": "Neil Shubin",
                                    "2": "Your Inner Fish: A Journey into the 3.5-Billion-Year History of the Human Body",
                                    "3": "3.97"
                                },
                                {
                                    "0": "2983562",
                                    "1": "Dean Koontz",
                                    "2": "Your Heart Belongs to Me",
                                    "3": "3.34"
                                },
                                {
                                    "0": "95707",
                                    "1": "Joel Osteen",
                                    "2": "Your Best Life Now: 7 Steps to Living at Your Full Potential",
                                    "3": "4"
                                },
                                {
                                    "0": "27170141",
                                    "1": "Jessi Klein",
                                    "2": "You'll Grow Out of It",
                                    "3": "3.83"
                                },
                                {
                                    "0": "25251757",
                                    "1": "Megan Abbott",
                                    "2": "You Will Know Me",
                                    "3": "3.45"
                                },
                                {
                                    "0": "21411887",
                                    "1": "Abbi Glines",
                                    "2": "You Were Mine (Rosemary Beach, #9)",
                                    "3": "4.26"
                                },
                                {
                                    "0": "33453",
                                    "1": "Christopher Moore",
                                    "2": "You Suck (A Love Story, #2)",
                                    "3": "3.82"
                                },
                                {
                                    "0": "50750",
                                    "1": "Katie MacAlister",
                                    "2": "You Slay Me (Aisling Grey #1)",
                                    "3": "4.01"
                                },
                                {
                                    "0": "4954",
                                    "1": "Dave Eggers",
                                    "2": "You Shall Know Our Velocity!",
                                    "3": "3.62"
                                }
                            ]
                        },
                        "text/html": [
                            "<table>",
                            "<tr><th>book_id</th><th>authors</th><th>title</th><th>average_rating</th></tr>",
                            "<tr><td>1429082</td><td>Naoko Takeuchi, 武内 直子</td><td>美少女戦士セーラームーン新装版 1 [Bishōjo Senshi Sailor Moon Shinsōban 1]</td><td>4.28</td></tr>",
                            "<tr><td>8110748</td><td>Meca Tanaka, 田中メカ</td><td>キスよりも早く1 [Kisu Yorimo Hayaku 1] (Faster than a Kiss #1)</td><td>4.23</td></tr>",
                            "<tr><td>3831279</td><td>أحمد مراد</td><td>ڤيرتيجو</td><td>3.72</td></tr>",
                            "<tr><td>3503947</td><td>أحمد خالد توفيق</td><td>يوتوبيا</td><td>3.9</td></tr>",
                            "<tr><td>3240691</td><td>بهاء طاهر</td><td>واحة الغروب</td><td>3.82</td></tr>",
                            "<tr><td>20317106</td><td>محمد صادق</td><td>هيبتا</td><td>3.82</td></tr>",
                            "<tr><td>383196</td><td>سهراب سپهری</td><td>هشت کتاب</td><td>4.08</td></tr>",
                            "<tr><td>17524166</td><td>Alaa Al Aswany, علاء الأسواني</td><td>نادي السيارات</td><td>3.41</td></tr>",
                            "<tr><td>10088913</td><td>حسن الجندي</td><td>مخطوطة بن إسحاق: مدينة الموتى</td><td>3.76</td></tr>",
                            "<tr><td>11995136</td><td>يوسف زيدان, Youssef Ziedan</td><td>محال</td><td>3.31</td></tr>",
                            "<tr><td>74862</td><td>Samad Behrangi</td><td>ماهی سیاه کوچولو</td><td>4.11</td></tr>",
                            "<tr><td>7824768</td><td>خالد الباتلي</td><td>ليتها تقرأ</td><td>3.04</td></tr>",
                            "<tr><td>2750180</td><td>عائض القرني</td><td>لا تحزن</td><td>4.15</td></tr>",
                            "<tr><td>12415695</td><td>عبدالله المغلوث</td><td>كخه يا بابا</td><td>3.71</td></tr>",
                            "<tr><td>5607622</td><td>محمد المنسي قنديل, Mohamed Mansi Qandil</td><td>قمر على سمرقند</td><td>3.9</td></tr>",
                            "<tr><td>20316309</td><td>خولة حمدي</td><td>في قلبي أنثى عبرية</td><td>4.04</td></tr>",
                            "<tr><td>10400407</td><td>أثير عبدالله النشمي</td><td>في ديسمبر تنتهي كل الأحلام</td><td>3.33</td></tr>",
                            "<tr><td>2501455</td><td>أحلام مستغانمي, Ahlam Mosteghanemi</td><td>فوضى الحواس</td><td>3.83</td></tr>",
                            "<tr><td>18711993</td><td>أثير عبدالله النشمي</td><td>فلتغفري</td><td>3.5</td></tr>",
                            "<tr><td>326272</td><td>Heinrich Böll, محمد اسماعیل‌زاده</td><td>عقاید یک دلقک</td><td>4.05</td></tr>",
                            "<tr><td>3554772</td><td>يوسف زيدان</td><td>عزازيل</td><td>4.07</td></tr>",
                            "<tr><td>2501453</td><td>أحلام مستغانمي, Ahlam Mosteghanemi</td><td>عابر سرير</td><td>3.64</td></tr>",
                            "<tr><td>3331756</td><td>غسان كنفاني</td><td>عائد إلى حيفا</td><td>4.32</td></tr>",
                            "<tr><td>5557442</td><td>يوسف زيدان</td><td>ظل الأفعى</td><td>3</td></tr>",
                            "<tr><td>13151637</td><td>محمد صادق</td><td>طه الغريب</td><td>3.67</td></tr>",
                            "<tr><td>16170522</td><td>تامر إبراهيم</td><td>صانع الظلام</td><td>3.81</td></tr>",
                            "<tr><td>1220507</td><td>Alaa Al Aswany, علاء الأسواني</td><td>شيكاجو</td><td>3.41</td></tr>",
                            "<tr><td>3692151</td><td>عمر طاهر</td><td>شكلها باظت</td><td>3.52</td></tr>",
                            "<tr><td>11942408</td><td>عمرو سلامة</td><td>شاب كشك في رحلة البحث عن الجادون</td><td>3.66</td></tr>",
                            "<tr><td>364826</td><td>Mika Waltari, ذبیح‌الله منصوری</td><td>سینوهه</td><td>4.08</td></tr>",
                            "<tr><td>300905</td><td>عباس معروفی</td><td>سمفونی مردگان</td><td>4.08</td></tr>",
                            "<tr><td>13637412</td><td>سعود السنعوسي, Saud Alsanousi</td><td>ساق البامبو</td><td>4.25</td></tr>",
                            "<tr><td>6614886</td><td>أحمد خالد توفيق</td><td>زغازيغ</td><td>3.55</td></tr>",
                            "<tr><td>9722217</td><td>نور عبدالمجيد</td><td>رغم الفراق</td><td>3.97</td></tr>",
                            "<tr><td>3338544</td><td>مصطفى محمود</td><td>رحلتي من الشك إلى الإيمان</td><td>4.03</td></tr>",
                            "<tr><td>4653511</td><td>غسان كنفاني</td><td>رجال في الشمس</td><td>4.16</td></tr>",
                            "<tr><td>4488657</td><td>صلاح جاهين, يحيى حقي</td><td>رباعيات صلاح جاهين</td><td>4.43</td></tr>",
                            "<tr><td>716696</td><td>Omar Khayyám, محمدعلی فروغی, قاسم غنی</td><td>رباعيات خيام</td><td>4.18</td></tr>",
                            "<tr><td>3243517</td><td>Mourid Barghouti, مريد البرغوثي</td><td>رأيت رام الله</td><td>4.15</td></tr>",
                            "<tr><td>2501458</td><td>أحلام مستغانمي, Ahlam Mosteghanemi</td><td>ذاكرة الجسد</td><td>3.87</td></tr>",
                            "<tr><td>192510</td><td>José Mauro de Vasconcelos, قاسم صنعوی</td><td>درخت زیبای من</td><td>4.36</td></tr>",
                            "<tr><td>3491072</td><td>أنيس منصور</td><td>حول العالم في 200 يوم</td><td>4.08</td></tr>",
                            "<tr><td>18039755</td><td>Ibraheem Abbas, إبراهيم عباس, Yasser Bahjatt</td><td>حوجن [Ḥawjan]</td><td>3.75</td></tr>",
                            "<tr><td>5664022</td><td>مصطفى محمود</td><td>حوار مع صديقي الملحد</td><td>3.95</td></tr>",
                            "<tr><td>18363068</td><td>محمد السالم</td><td>حبيبتي بكماء</td><td>3.3</td></tr>",
                            "<tr><td>3438000</td><td>Radwa Ashour, رضوى عاشور</td><td>ثلاثية غرناطة</td><td>4.29</td></tr>",
                            "<tr><td>7704143</td><td>أحمد مراد</td><td>تراب الماس</td><td>4.09</td></tr>",
                            "<tr><td>2508854</td><td>خالد الخميسي, Khaled Al Khamissi</td><td>تاكسي: حواديت المشاوير</td><td>3.68</td></tr>",
                            "<tr><td>10706934</td><td>ياسر حارب</td><td>بيكاسو وستاربكس</td><td>3.55</td></tr>",
                            "<tr><td>13151283</td><td>محمد صادق</td><td>بضع ساعات في يوم ما</td><td>3.14</td></tr>",
                            "<tr><td>13562054</td><td>عزالدين شكري فشير</td><td>باب الخروج: رسالة علي المفعمة ببهجة غير متوقعة</td><td>3.88</td></tr>",
                            "<tr><td>9666241</td><td>يوسف زيدان, Youssef Ziedan</td><td>النبطي</td><td>3.43</td></tr>",
                            "<tr><td>18323154</td><td>حسن كمال</td><td>المرحوم</td><td>3.51</td></tr>",
                            "<tr><td>16170625</td><td>مصطفى إبراهيم</td><td>المانيفستو</td><td>4.21</td></tr>",
                            "<tr><td>16031620</td><td>أحمد مراد</td><td>الفيل الأزرق</td><td>3.8</td></tr>",
                            "<tr><td>8239301</td><td>Radwa Ashour, رضوى عاشور</td><td>الطنطورية</td><td>4.32</td></tr>",
                            "<tr><td>16076787</td><td>أحمد خالد توفيق</td><td>السنجة</td><td>3.16</td></tr>",
                            "<tr><td>545425</td><td>Safiy al-Rahman al-Mubarakfuri</td><td>الرحيق المختوم</td><td>4.57</td></tr>",
                            "<tr><td>5295735</td><td>Naguib Mahfouz, نجيب محفوظ</td><td>الحرافيش</td><td>4.34</td></tr>",
                            "<tr><td>7701043</td><td>حسن الجندي</td><td>الجزار</td><td>4.11</td></tr>",
                            "<tr><td>16081961</td><td>أحلام مستغانمي, Ahlam Mosteghanemi</td><td>الأسود يليق بك</td><td>3.72</td></tr>",
                            "<tr><td>2678349</td><td>محمد عبد الرحمن العريفي</td><td>استمتع بحياتك</td><td>4.21</td></tr>",
                            "<tr><td>2364284</td><td>Naguib Mahfouz, نجيب محفوظ</td><td>أولاد حارتنا</td><td>4.1</td></tr>",
                            "<tr><td>6604887</td><td>منى المرشود</td><td>أنت لي</td><td>4.03</td></tr>",
                            "<tr><td>21394850</td><td>سلطان موسى الموسى</td><td>أقوم قيلا</td><td>3.99</td></tr>",
                            "<tr><td>7119070</td><td>أثير عبدالله النشمي</td><td>أحببتك أكثر مما ينبغي</td><td>3.67</td></tr>",
                            "<tr><td>97390</td><td>Aleksandr Griboyedov, Александр Сергеевич Грибоедов</td><td>Горе от ума</td><td>4.13</td></tr>",
                            "<tr><td>82817</td><td>Danielle Steel</td><td>Zoya</td><td>3.95</td></tr>",
                            "<tr><td>24796</td><td>Isabel Allende, Margaret Sayers Peden</td><td>Zorro</td><td>3.75</td></tr>",
                            "<tr><td>53639</td><td>Nikos Kazantzakis, Νίκος Καζαντζάκης</td><td>Zorba the Greek</td><td>4.1</td></tr>",
                            "<tr><td>13353667</td><td>James Patterson, Michael Ledwidge</td><td>Zoo</td><td>3.43</td></tr>",
                            "<tr><td>10365343</td><td>Colson Whitehead</td><td>Zone One</td><td>3.25</td></tr>",
                            "<tr><td>2102600</td><td>John Scalzi</td><td>Zoe's Tale (Old Man's War, #4)</td><td>3.73</td></tr>",
                            "<tr><td>105760</td><td>Robert Graysmith</td><td>Zodiac</td><td>3.89</td></tr>",
                            "<tr><td>825</td><td>Neal Stephenson</td><td>Zodiac</td><td>3.7</td></tr>",
                            "<tr><td>8879121</td><td>Ben Hatke</td><td>Zita the Spacegirl (Zita the Spacegirl, #1)</td><td>4.04</td></tr>",
                            "<tr><td>18050143</td><td>Peter Thiel, Blake  Masters</td><td>Zero to One: Notes on Startups, or How to Build the Future</td><td>4.17</td></tr>",
                            "<tr><td>7745031</td><td>William Gibson</td><td>Zero History (Blue Ant, #3)</td><td>3.93</td></tr>",
                            "<tr><td>11007587</td><td>David Baldacci</td><td>Zero Day (John Puller, #1)</td><td>3.99</td></tr>",
                            "<tr><td>228765</td><td>Frederick Franck</td><td>Zen of Seeing: Seeing/Drawing as Meditation</td><td>3.92</td></tr>",
                            "<tr><td>402843</td><td>Shunryu Suzuki</td><td>Zen Mind, Beginner's Mind: Informal Talks on Zen Meditation and Practice</td><td>4.23</td></tr>",
                            "<tr><td>629</td><td>Robert M. Pirsig</td><td>Zen and the Art of Motorcycle Maintenance: An Inquiry Into Values</td><td>3.76</td></tr>",
                            "<tr><td>6512154</td><td>Dave Eggers</td><td>Zeitoun</td><td>4.08</td></tr>",
                            "<tr><td>17568801</td><td>Reza Aslan</td><td>Zealot: The Life and Times of Jesus of Nazareth</td><td>3.82</td></tr>",
                            "<tr><td>395220</td><td>Audre Lorde</td><td>Zami: A New Spelling of My Name</td><td>4.2</td></tr>",
                            "<tr><td>15994634</td><td>Therese Anne Fowler</td><td>Z: A Novel of Zelda Fitzgerald</td><td>3.82</td></tr>",
                            "<tr><td>69477</td><td>Robert C. O'Brien</td><td>Z for Zachariah</td><td>3.64</td></tr>",
                            "<tr><td>432020</td><td>Yoshihiro Togashi</td><td>Yu Yu Hakusho, Volume 1: Goodbye, Material World! (Yu Yu Hakusho, #1)</td><td>4.29</td></tr>",
                            "<tr><td>13134</td><td>James Patterson, Howard Roughan</td><td>You've Been Warned</td><td>3.52</td></tr>",
                            "<tr><td>22193</td><td>Cecily von Ziegesar</td><td>You're the One That I Want (Gossip Girl, #6)</td><td>3.71</td></tr>",
                            "<tr><td>23705512</td><td>Felicia Day, Joss Whedon</td><td>You're Never Weird on the Internet (Almost)</td><td>4.14</td></tr>",
                            "<tr><td>1662160</td><td>Neil Shubin</td><td>Your Inner Fish: A Journey into the 3.5-Billion-Year History of the Human Body</td><td>3.97</td></tr>",
                            "<tr><td>2983562</td><td>Dean Koontz</td><td>Your Heart Belongs to Me</td><td>3.34</td></tr>",
                            "<tr><td>95707</td><td>Joel Osteen</td><td>Your Best Life Now: 7 Steps to Living at Your Full Potential</td><td>4</td></tr>",
                            "<tr><td>27170141</td><td>Jessi Klein</td><td>You'll Grow Out of It</td><td>3.83</td></tr>",
                            "<tr><td>25251757</td><td>Megan Abbott</td><td>You Will Know Me</td><td>3.45</td></tr>",
                            "<tr><td>21411887</td><td>Abbi Glines</td><td>You Were Mine (Rosemary Beach, #9)</td><td>4.26</td></tr>",
                            "<tr><td>33453</td><td>Christopher Moore</td><td>You Suck (A Love Story, #2)</td><td>3.82</td></tr>",
                            "<tr><td>50750</td><td>Katie MacAlister</td><td>You Slay Me (Aisling Grey #1)</td><td>4.01</td></tr>",
                            "<tr><td>4954</td><td>Dave Eggers</td><td>You Shall Know Our Velocity!</td><td>3.62</td></tr>",
                            "</table>"
                        ]
                    }
                }
            ],
            "execution_count": 3
        },
        {
            "cell_type": "markdown",
            "source": [
                "Question 2: Write a query to find the least popular book."
            ],
            "metadata": {
                "azdata_cell_guid": "777429b8-8622-489d-9c49-e2acecd7f17e"
            },
            "attachments": {}
        },
        {
            "cell_type": "code",
            "source": [
                "-- return least popular book\n",
                "SELECT TOP 1 title, average_rating FROM BooksDB.dbo.books\n",
                "ORDER BY average_rating;"
            ],
            "metadata": {
                "azdata_cell_guid": "c78a1779-db74-470f-a60a-7c72a43d774b",
                "language": "sql"
            },
            "outputs": [
                {
                    "output_type": "display_data",
                    "data": {
                        "text/html": "(1 row affected)"
                    },
                    "metadata": {}
                },
                {
                    "output_type": "display_data",
                    "data": {
                        "text/html": "Total execution time: 00:00:00.056"
                    },
                    "metadata": {}
                },
                {
                    "output_type": "execute_result",
                    "metadata": {},
                    "execution_count": 8,
                    "data": {
                        "application/vnd.dataresource+json": {
                            "schema": {
                                "fields": [
                                    {
                                        "name": "title"
                                    },
                                    {
                                        "name": "average_rating"
                                    }
                                ]
                            },
                            "data": [
                                {
                                    "0": "One Night at the Call Center",
                                    "1": "2.47"
                                }
                            ]
                        },
                        "text/html": [
                            "<table>",
                            "<tr><th>title</th><th>average_rating</th></tr>",
                            "<tr><td>One Night at the Call Center</td><td>2.47</td></tr>",
                            "</table>"
                        ]
                    }
                }
            ],
            "execution_count": 8
        },
        {
            "cell_type": "markdown",
            "source": [
                "Question 3: Which tag is the most popular?"
            ],
            "metadata": {
                "azdata_cell_guid": "a370909d-5d64-49e2-8fec-5220730c8ca7"
            },
            "attachments": {}
        },
        {
            "cell_type": "code",
            "source": [
                "-- return most popular tag\n",
                "SELECT TOP 1 tag_id, goodreads_book_id FROM BooksDB.dbo.book_tags\n",
                "ORDER BY tag_id DESC;"
            ],
            "metadata": {
                "azdata_cell_guid": "9e0451dc-c4d3-4775-9eb1-904854f459ff",
                "tags": [],
                "language": "sql"
            },
            "outputs": [
                {
                    "output_type": "display_data",
                    "data": {
                        "text/html": "(1 row affected)"
                    },
                    "metadata": {}
                },
                {
                    "output_type": "display_data",
                    "data": {
                        "text/html": "Total execution time: 00:00:00.307"
                    },
                    "metadata": {}
                },
                {
                    "output_type": "execute_result",
                    "metadata": {},
                    "execution_count": 13,
                    "data": {
                        "application/vnd.dataresource+json": {
                            "schema": {
                                "fields": [
                                    {
                                        "name": "tag_id"
                                    },
                                    {
                                        "name": "goodreads_book_id"
                                    }
                                ]
                            },
                            "data": [
                                {
                                    "0": "34251",
                                    "1": "9361589"
                                }
                            ]
                        },
                        "text/html": [
                            "<table>",
                            "<tr><th>tag_id</th><th>goodreads_book_id</th></tr>",
                            "<tr><td>34251</td><td>9361589</td></tr>",
                            "</table>"
                        ]
                    }
                }
            ],
            "execution_count": 13
        },
        {
            "cell_type": "markdown",
            "source": [
                "Question 4: What is the name of the most popular tag?"
            ],
            "metadata": {
                "azdata_cell_guid": "3cdfa7e6-c5a6-49fb-aa27-afeece881627"
            },
            "attachments": {}
        },
        {
            "cell_type": "code",
            "source": [
                "-- return name of most popular tag\n",
                "SELECT TOP 1 tag_name, tag_id FROM BooksDB.dbo.tags\n",
                "ORDER BY tag_name DESC;"
            ],
            "metadata": {
                "azdata_cell_guid": "3cd3a3ec-4ce2-49b6-b714-44179eed00e1",
                "language": "sql"
            },
            "outputs": [
                {
                    "output_type": "display_data",
                    "data": {
                        "text/html": "(1 row affected)"
                    },
                    "metadata": {}
                },
                {
                    "output_type": "display_data",
                    "data": {
                        "text/html": "Total execution time: 00:00:00.061"
                    },
                    "metadata": {}
                },
                {
                    "output_type": "execute_result",
                    "metadata": {},
                    "execution_count": 12,
                    "data": {
                        "application/vnd.dataresource+json": {
                            "schema": {
                                "fields": [
                                    {
                                        "name": "tag_name"
                                    },
                                    {
                                        "name": "tag_id"
                                    }
                                ]
                            },
                            "data": [
                                {
                                    "0": "漫画",
                                    "1": "34242"
                                }
                            ]
                        },
                        "text/html": [
                            "<table>",
                            "<tr><th>tag_name</th><th>tag_id</th></tr>",
                            "<tr><td>漫画</td><td>34242</td></tr>",
                            "</table>"
                        ]
                    }
                }
            ],
            "execution_count": 12
        },
        {
            "cell_type": "markdown",
            "source": [
                "Question 5: How many books where released in the first decade of 2000?"
            ],
            "metadata": {
                "azdata_cell_guid": "b3962545-c0c2-47ca-a3c4-299c2c0a4b0c"
            },
            "attachments": {}
        },
        {
            "cell_type": "code",
            "source": [
                "-- return number of books published in the first decade of 2000\n",
                "SELECT COUNT(title) AS \"Books Published in 2000s\" FROM BooksDB.dbo.books\n",
                "WHERE original_publication_year BETWEEN 2000 AND 2010;"
            ],
            "metadata": {
                "azdata_cell_guid": "8dcd65e9-1b3e-4cf8-b726-26729a1225f2",
                "language": "sql"
            },
            "outputs": [
                {
                    "output_type": "display_data",
                    "data": {
                        "text/html": "(1 row affected)"
                    },
                    "metadata": {}
                },
                {
                    "output_type": "display_data",
                    "data": {
                        "text/html": "Total execution time: 00:00:00.046"
                    },
                    "metadata": {}
                },
                {
                    "output_type": "execute_result",
                    "metadata": {},
                    "execution_count": 20,
                    "data": {
                        "application/vnd.dataresource+json": {
                            "schema": {
                                "fields": [
                                    {
                                        "name": "Books Published in 2000s"
                                    }
                                ]
                            },
                            "data": [
                                {
                                    "0": "3594"
                                }
                            ]
                        },
                        "text/html": [
                            "<table>",
                            "<tr><th>Books Published in 2000s</th></tr>",
                            "<tr><td>3594</td></tr>",
                            "</table>"
                        ]
                    }
                }
            ],
            "execution_count": 20
        },
        {
            "cell_type": "markdown",
            "source": [
                "Question 6: How many book titles contain the word Happy?"
            ],
            "metadata": {
                "azdata_cell_guid": "5080d6de-2775-4055-97ae-f93fce97a426"
            },
            "attachments": {}
        },
        {
            "cell_type": "code",
            "source": [
                "-- return number of books that contain the word Happy\n",
                "SELECT COUNT(title) AS \"Happy\" FROM BooksDB.dbo.books\n",
                "WHERE title LIKE '%happy%';"
            ],
            "metadata": {
                "azdata_cell_guid": "f55f18b9-91b1-4761-ad8c-4758434d7827",
                "language": "sql"
            },
            "outputs": [
                {
                    "output_type": "display_data",
                    "data": {
                        "text/html": "(1 row affected)"
                    },
                    "metadata": {}
                },
                {
                    "output_type": "display_data",
                    "data": {
                        "text/html": "Total execution time: 00:00:00.070"
                    },
                    "metadata": {}
                },
                {
                    "output_type": "execute_result",
                    "metadata": {},
                    "execution_count": 23,
                    "data": {
                        "application/vnd.dataresource+json": {
                            "schema": {
                                "fields": [
                                    {
                                        "name": "Happy"
                                    }
                                ]
                            },
                            "data": [
                                {
                                    "0": "13"
                                }
                            ]
                        },
                        "text/html": [
                            "<table>",
                            "<tr><th>Happy</th></tr>",
                            "<tr><td>13</td></tr>",
                            "</table>"
                        ]
                    }
                }
            ],
            "execution_count": 23
        },
        {
            "cell_type": "markdown",
            "source": [
                "Question 7: List the books from the top 3 authors from question 1.  If there is more than one author just use the first one. Sort the titles <span style=\"background-color: rgba(127, 127, 127, 0.1); font-family: -apple-system, BlinkMacSystemFont, sans-serif;\">alphabetically by author and then by average_rating, best rated to lowest. Does order matter in sorting?</span>"
            ],
            "metadata": {
                "azdata_cell_guid": "d38270ef-da5a-42b4-802a-506acb8b9e4b"
            },
            "attachments": {}
        },
        {
            "cell_type": "code",
            "source": [
                "-- return all books from the top 3 authors, sort by author and rating\n",
                "SELECT DISTINCT TOP 3 authors, average_rating, title FROM BooksDB.dbo.books\n",
                "ORDER BY average_rating DESC;\n",
                ""
            ],
            "metadata": {
                "azdata_cell_guid": "47466fac-5d8d-491d-bd3c-2f8496f55e6b",
                "language": "sql"
            },
            "outputs": [
                {
                    "output_type": "display_data",
                    "data": {
                        "text/html": "(3 rows affected)"
                    },
                    "metadata": {}
                },
                {
                    "output_type": "display_data",
                    "data": {
                        "text/html": "Total execution time: 00:00:00.076"
                    },
                    "metadata": {}
                },
                {
                    "output_type": "execute_result",
                    "metadata": {},
                    "execution_count": 26,
                    "data": {
                        "application/vnd.dataresource+json": {
                            "schema": {
                                "fields": [
                                    {
                                        "name": "authors"
                                    },
                                    {
                                        "name": "average_rating"
                                    },
                                    {
                                        "name": "title"
                                    }
                                ]
                            },
                            "data": [
                                {
                                    "0": "Bill Watterson",
                                    "1": "4.82",
                                    "2": "The Complete Calvin and Hobbes"
                                },
                                {
                                    "0": "Brandon Sanderson",
                                    "1": "4.77",
                                    "2": "Words of Radiance (The Stormlight Archive, #2)"
                                },
                                {
                                    "0": "J.K. Rowling, Mary GrandPré",
                                    "1": "4.77",
                                    "2": "Harry Potter Boxed Set, Books 1-5 (Harry Potter, #1-5)"
                                }
                            ]
                        },
                        "text/html": [
                            "<table>",
                            "<tr><th>authors</th><th>average_rating</th><th>title</th></tr>",
                            "<tr><td>Bill Watterson</td><td>4.82</td><td>The Complete Calvin and Hobbes</td></tr>",
                            "<tr><td>Brandon Sanderson</td><td>4.77</td><td>Words of Radiance (The Stormlight Archive, #2)</td></tr>",
                            "<tr><td>J.K. Rowling, Mary GrandPré</td><td>4.77</td><td>Harry Potter Boxed Set, Books 1-5 (Harry Potter, #1-5)</td></tr>",
                            "</table>"
                        ]
                    }
                }
            ],
            "execution_count": 26
        },
        {
            "cell_type": "markdown",
            "source": [
                "Question 8: Take a close look at J.K. Rowling.  Is her top rated book on this list from question 1?  Why might this be? How could we account for this?\n",
                "\n",
                "> Click here to add your answer."
            ],
            "metadata": {
                "azdata_cell_guid": "db907c70-0bbd-4121-ac91-ae814f703243"
            },
            "attachments": {}
        },
        {
            "cell_type": "markdown",
            "source": [
                "Try updating your above query to include all of J.K. Rowling's books.\n",
                "\n",
                "Are there any other issues?\n",
                "\n",
                "> Click here to add your answer."
            ],
            "metadata": {
                "azdata_cell_guid": "35ee4a48-8e84-4eb5-95ca-f5cdddc8d682"
            },
            "attachments": {}
        },
        {
            "cell_type": "code",
            "source": [
                "-- Try updating your above query to include all of J.K. Rowling's books\n",
                "SELECT DISTINCT authors, average_rating, title FROM BooksDB.dbo.books\n",
                "WHERE authors LIKE '%Rowling%'\n",
                "ORDER BY average_rating DESC;"
            ],
            "metadata": {
                "azdata_cell_guid": "ce489012-fce9-435c-b570-7734223a0678",
                "tags": [],
                "language": "sql"
            },
            "outputs": [
                {
                    "output_type": "display_data",
                    "data": {
                        "text/html": "(27 rows affected)"
                    },
                    "metadata": {}
                },
                {
                    "output_type": "display_data",
                    "data": {
                        "text/html": "Total execution time: 00:00:00.078"
                    },
                    "metadata": {}
                },
                {
                    "output_type": "execute_result",
                    "metadata": {},
                    "execution_count": 29,
                    "data": {
                        "application/vnd.dataresource+json": {
                            "schema": {
                                "fields": [
                                    {
                                        "name": "authors"
                                    },
                                    {
                                        "name": "average_rating"
                                    },
                                    {
                                        "name": "title"
                                    }
                                ]
                            },
                            "data": [
                                {
                                    "0": "J.K. Rowling, Mary GrandPré",
                                    "1": "4.77",
                                    "2": "Harry Potter Boxed Set, Books 1-5 (Harry Potter, #1-5)"
                                },
                                {
                                    "0": "J.K. Rowling",
                                    "1": "4.74",
                                    "2": "Harry Potter Boxset (Harry Potter, #1-7)"
                                },
                                {
                                    "0": "J.K. Rowling",
                                    "1": "4.73",
                                    "2": "Harry Potter Collection (Harry Potter, #1-6)"
                                },
                                {
                                    "0": "J.K. Rowling, Mary GrandPré",
                                    "1": "4.66",
                                    "2": "The Harry Potter Collection 1-4 (Harry Potter, #1-4)"
                                },
                                {
                                    "0": "J.K. Rowling, Mary GrandPré",
                                    "1": "4.61",
                                    "2": "Harry Potter and the Deathly Hallows (Harry Potter, #7)"
                                },
                                {
                                    "0": "J.K. Rowling",
                                    "1": "4.56",
                                    "2": "Harry Potter and the Order of the Phoenix (Harry Potter, #5, Part 1)"
                                },
                                {
                                    "0": "J.K. Rowling, Mary GrandPré",
                                    "1": "4.54",
                                    "2": "Harry Potter and the Half-Blood Prince (Harry Potter, #6)"
                                },
                                {
                                    "0": "J.K. Rowling, Mary GrandPré",
                                    "1": "4.53",
                                    "2": "Harry Potter and the Goblet of Fire (Harry Potter, #4)"
                                },
                                {
                                    "0": "J.K. Rowling, Mary GrandPré, Rufus Beck",
                                    "1": "4.53",
                                    "2": "Harry Potter and the Prisoner of Azkaban (Harry Potter, #3)"
                                },
                                {
                                    "0": "J.K. Rowling, Mary GrandPré",
                                    "1": "4.46",
                                    "2": "Harry Potter and the Order of the Phoenix (Harry Potter, #5)"
                                },
                                {
                                    "0": "J.K. Rowling, Mary GrandPré",
                                    "1": "4.44",
                                    "2": "Harry Potter and the Sorcerer's Stone (Harry Potter, #1)"
                                },
                                {
                                    "0": "J.K. Rowling",
                                    "1": "4.41",
                                    "2": "Fantastic Beasts and Where to Find Them: The Original Screenplay"
                                },
                                {
                                    "0": "J.K. Rowling",
                                    "1": "4.4",
                                    "2": "Harry Potter Schoolbooks Box Set: Two Classic Books from the Library of Hogwarts School of Witchcraft and Wizardry"
                                },
                                {
                                    "0": "J.K. Rowling, Mary GrandPré",
                                    "1": "4.37",
                                    "2": "Harry Potter and the Chamber of Secrets (Harry Potter, #2)"
                                },
                                {
                                    "0": "J.K. Rowling, Joel Holland",
                                    "1": "4.26",
                                    "2": "Very Good Lives: The Fringe Benefits of Failure and the Importance of Imagination"
                                },
                                {
                                    "0": "J.K. Rowling, MinaLima",
                                    "1": "4.22",
                                    "2": "Short Stories from Hogwarts of Heroism, Hardship and Dangerous Hobbies (Pottermore Presents, #1)"
                                },
                                {
                                    "0": "J.K. Rowling",
                                    "1": "4.21",
                                    "2": "Hogwarts: An Incomplete and Unreliable Guide (Pottermore Presents, #3)"
                                },
                                {
                                    "0": "Robert Galbraith, J.K. Rowling",
                                    "1": "4.21",
                                    "2": "Career of Evil (Cormoran Strike, #3)"
                                },
                                {
                                    "0": "J.K. Rowling, MinaLima",
                                    "1": "4.2",
                                    "2": "Short Stories from Hogwarts of Power, Politics and Pesky Poltergeists (Pottermore Presents, #2)"
                                },
                                {
                                    "0": "Melissa Anelli, J.K. Rowling",
                                    "1": "4.09",
                                    "2": "Harry, a History: The True Story of a Boy Wizard, His Fans, and Life Inside the Harry Potter Phenomenon"
                                },
                                {
                                    "0": "J.K. Rowling",
                                    "1": "4.06",
                                    "2": "The Tales of Beedle the Bard"
                                },
                                {
                                    "0": "Robert Galbraith, J.K. Rowling",
                                    "1": "4.03",
                                    "2": "The Silkworm (Cormoran Strike, #2)"
                                },
                                {
                                    "0": "Newt Scamander, J.K. Rowling, Albus Dumbledore",
                                    "1": "3.95",
                                    "2": "Fantastic Beasts and Where to Find Them"
                                },
                                {
                                    "0": "Kennilworthy Whisp, J.K. Rowling",
                                    "1": "3.85",
                                    "2": "Quidditch Through the Ages"
                                },
                                {
                                    "0": "Robert Galbraith, J.K. Rowling",
                                    "1": "3.83",
                                    "2": "The Cuckoo's Calling (Cormoran Strike, #1)"
                                },
                                {
                                    "0": "John Tiffany, Jack Thorne, J.K. Rowling",
                                    "1": "3.75",
                                    "2": "Harry Potter and the Cursed Child - Parts One and Two (Harry Potter, #8)"
                                },
                                {
                                    "0": "J.K. Rowling",
                                    "1": "3.28",
                                    "2": "The Casual Vacancy"
                                }
                            ]
                        },
                        "text/html": [
                            "<table>",
                            "<tr><th>authors</th><th>average_rating</th><th>title</th></tr>",
                            "<tr><td>J.K. Rowling, Mary GrandPré</td><td>4.77</td><td>Harry Potter Boxed Set, Books 1-5 (Harry Potter, #1-5)</td></tr>",
                            "<tr><td>J.K. Rowling</td><td>4.74</td><td>Harry Potter Boxset (Harry Potter, #1-7)</td></tr>",
                            "<tr><td>J.K. Rowling</td><td>4.73</td><td>Harry Potter Collection (Harry Potter, #1-6)</td></tr>",
                            "<tr><td>J.K. Rowling, Mary GrandPré</td><td>4.66</td><td>The Harry Potter Collection 1-4 (Harry Potter, #1-4)</td></tr>",
                            "<tr><td>J.K. Rowling, Mary GrandPré</td><td>4.61</td><td>Harry Potter and the Deathly Hallows (Harry Potter, #7)</td></tr>",
                            "<tr><td>J.K. Rowling</td><td>4.56</td><td>Harry Potter and the Order of the Phoenix (Harry Potter, #5, Part 1)</td></tr>",
                            "<tr><td>J.K. Rowling, Mary GrandPré</td><td>4.54</td><td>Harry Potter and the Half-Blood Prince (Harry Potter, #6)</td></tr>",
                            "<tr><td>J.K. Rowling, Mary GrandPré</td><td>4.53</td><td>Harry Potter and the Goblet of Fire (Harry Potter, #4)</td></tr>",
                            "<tr><td>J.K. Rowling, Mary GrandPré, Rufus Beck</td><td>4.53</td><td>Harry Potter and the Prisoner of Azkaban (Harry Potter, #3)</td></tr>",
                            "<tr><td>J.K. Rowling, Mary GrandPré</td><td>4.46</td><td>Harry Potter and the Order of the Phoenix (Harry Potter, #5)</td></tr>",
                            "<tr><td>J.K. Rowling, Mary GrandPré</td><td>4.44</td><td>Harry Potter and the Sorcerer's Stone (Harry Potter, #1)</td></tr>",
                            "<tr><td>J.K. Rowling</td><td>4.41</td><td>Fantastic Beasts and Where to Find Them: The Original Screenplay</td></tr>",
                            "<tr><td>J.K. Rowling</td><td>4.4</td><td>Harry Potter Schoolbooks Box Set: Two Classic Books from the Library of Hogwarts School of Witchcraft and Wizardry</td></tr>",
                            "<tr><td>J.K. Rowling, Mary GrandPré</td><td>4.37</td><td>Harry Potter and the Chamber of Secrets (Harry Potter, #2)</td></tr>",
                            "<tr><td>J.K. Rowling, Joel Holland</td><td>4.26</td><td>Very Good Lives: The Fringe Benefits of Failure and the Importance of Imagination</td></tr>",
                            "<tr><td>J.K. Rowling, MinaLima</td><td>4.22</td><td>Short Stories from Hogwarts of Heroism, Hardship and Dangerous Hobbies (Pottermore Presents, #1)</td></tr>",
                            "<tr><td>J.K. Rowling</td><td>4.21</td><td>Hogwarts: An Incomplete and Unreliable Guide (Pottermore Presents, #3)</td></tr>",
                            "<tr><td>Robert Galbraith, J.K. Rowling</td><td>4.21</td><td>Career of Evil (Cormoran Strike, #3)</td></tr>",
                            "<tr><td>J.K. Rowling, MinaLima</td><td>4.2</td><td>Short Stories from Hogwarts of Power, Politics and Pesky Poltergeists (Pottermore Presents, #2)</td></tr>",
                            "<tr><td>Melissa Anelli, J.K. Rowling</td><td>4.09</td><td>Harry, a History: The True Story of a Boy Wizard, His Fans, and Life Inside the Harry Potter Phenomenon</td></tr>",
                            "<tr><td>J.K. Rowling</td><td>4.06</td><td>The Tales of Beedle the Bard</td></tr>",
                            "<tr><td>Robert Galbraith, J.K. Rowling</td><td>4.03</td><td>The Silkworm (Cormoran Strike, #2)</td></tr>",
                            "<tr><td>Newt Scamander, J.K. Rowling, Albus Dumbledore</td><td>3.95</td><td>Fantastic Beasts and Where to Find Them</td></tr>",
                            "<tr><td>Kennilworthy Whisp, J.K. Rowling</td><td>3.85</td><td>Quidditch Through the Ages</td></tr>",
                            "<tr><td>Robert Galbraith, J.K. Rowling</td><td>3.83</td><td>The Cuckoo's Calling (Cormoran Strike, #1)</td></tr>",
                            "<tr><td>John Tiffany, Jack Thorne, J.K. Rowling</td><td>3.75</td><td>Harry Potter and the Cursed Child - Parts One and Two (Harry Potter, #8)</td></tr>",
                            "<tr><td>J.K. Rowling</td><td>3.28</td><td>The Casual Vacancy</td></tr>",
                            "</table>"
                        ]
                    }
                }
            ],
            "execution_count": 29
        },
        {
            "cell_type": "markdown",
            "source": [
                "Question 9: Write a query that returns the number of Authors whose first name is between rock and roll."
            ],
            "metadata": {
                "azdata_cell_guid": "75bf5054-4918-4e9e-8e03-24a38ffab9cc"
            },
            "attachments": {}
        },
        {
            "cell_type": "code",
            "source": [
                "-- return number of authors whose first name is between rock and roll\n",
                "SELECT authors FROM BooksDB.dbo.books\n",
                "WHERE authors < 'rock' AND authors > 'roll';\n",
                ""
            ],
            "metadata": {
                "azdata_cell_guid": "491b2492-95d4-4078-b319-386b0c5592ec",
                "language": "sql"
            },
            "outputs": [
                {
                    "output_type": "display_data",
                    "data": {
                        "text/html": "(0 rows affected)"
                    },
                    "metadata": {}
                },
                {
                    "output_type": "display_data",
                    "data": {
                        "text/html": "Total execution time: 00:00:00.061"
                    },
                    "metadata": {}
                },
                {
                    "output_type": "execute_result",
                    "metadata": {},
                    "execution_count": 35,
                    "data": {
                        "application/vnd.dataresource+json": {
                            "schema": {
                                "fields": [
                                    {
                                        "name": "authors"
                                    }
                                ]
                            },
                            "data": []
                        },
                        "text/html": [
                            "<table>",
                            "<tr><th>authors</th></tr>",
                            "</table>"
                        ]
                    }
                }
            ],
            "execution_count": 35
        },
        {
            "cell_type": "markdown",
            "source": [
                "## Part 2. Write your own question and write a query to answer it.\n",
                "\n",
                "Your Question:  Click here to add"
            ],
            "metadata": {
                "azdata_cell_guid": "1ba1363a-4f02-4962-a95a-93b80c5926b1"
            },
            "attachments": {}
        },
        {
            "cell_type": "code",
            "source": [
                "-- Add your querry here\n"
            ],
            "metadata": {
                "azdata_cell_guid": "607f1a61-b306-42bf-a20c-60ec3a6ba86a",
                "language": "sql"
            },
            "outputs": [],
            "execution_count": null
        },
        {
            "cell_type": "markdown",
            "source": [
                "Your Question: Click here to add"
            ],
            "metadata": {
                "azdata_cell_guid": "9386ad04-a016-44d4-8c5c-d25a102d47b4"
            }
        },
        {
            "cell_type": "code",
            "source": [
                "-- Add your querry here\n"
            ],
            "metadata": {
                "azdata_cell_guid": "15f249cf-aad7-468d-92e1-429b2a09f285",
                "language": "sql"
            },
            "outputs": [],
            "execution_count": null
        },
        {
            "cell_type": "markdown",
            "source": [
                "**Some Question Examples:**\n",
                "\n",
                "Write a query that returns the longest title?\n",
                "\n",
                "Which Author has written the most books?  \n",
                "\n",
                "Top  ten books written the year I was born?"
            ],
            "metadata": {
                "azdata_cell_guid": "7160362b-7127-4123-bd1d-95a94ae38a07"
            }
        }
    ]
}